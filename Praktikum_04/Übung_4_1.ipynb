{
 "cells": [
  {
   "cell_type": "markdown",
   "metadata": {
    "collapsed": true,
    "pycharm": {
     "name": "#%% md\n"
    }
   },
   "source": [
    "# Übung 4: Vorhersage von Covid anhand von Symptomdaten\n",
    "\n",
    "In dieser Aufgabe soll durch verschiedene Methoden Covid anhand von Symptomdaten vorhergesagt werden. Machen Sie sich zunächst wie üblich eine Übersicht über die Daten."
   ]
  },
  {
   "cell_type": "code",
   "execution_count": 2,
   "outputs": [],
   "source": [
    "# Hier ihr Code"
   ],
   "metadata": {
    "collapsed": false,
    "pycharm": {
     "name": "#%%\n"
    }
   }
  },
  {
   "cell_type": "markdown",
   "source": [
    "Wie Sie sehen, haben Sie im vorliegenden Datensatz eine Vielzahl an Symptomen und Patienteneigenschaften vorliegen. Auch wird eine vorliegende Covidinfektion vermerkt. Alle Daten werden mit Yes und No vermerkt. Dies ist für Data Science etwas ungünstig und es sollte nach dem Einlesen eine Umwandlung in 0 (liegt nicht vor) und 1 (liegt vor) erfolgen. Dies kann über die Methode [replace](https://pandas.pydata.org/docs/reference/api/pandas.DataFrame.replace.html) erfolgen."
   ],
   "metadata": {
    "collapsed": false,
    "pycharm": {
     "name": "#%% md\n"
    }
   }
  },
  {
   "cell_type": "code",
   "execution_count": 3,
   "outputs": [],
   "source": [
    "# Hier ihr Code"
   ],
   "metadata": {
    "collapsed": false,
    "pycharm": {
     "name": "#%%\n"
    }
   }
  },
  {
   "cell_type": "markdown",
   "source": [
    "Denken Sie nun unbedingt an eine Teilung des Datensatz in 20% Testdaten und 80% Trainingsdaten. Sonst können Sie Ihr Modell im Nachhinein nicht vernünftig überprüfen. Dafür können Sie die bereits in vorherigen Praktika vorgestellte Funktion [train_test_split](https://scikit-learn.org/stable/modules/generated/sklearn.model_selection.train_test_split.html) verwenden."
   ],
   "metadata": {
    "collapsed": false,
    "pycharm": {
     "name": "#%% md\n"
    }
   }
  },
  {
   "cell_type": "code",
   "execution_count": 4,
   "outputs": [],
   "source": [
    "# Hier ihr Code"
   ],
   "metadata": {
    "collapsed": false,
    "pycharm": {
     "name": "#%%\n"
    }
   }
  },
  {
   "cell_type": "markdown",
   "source": [
    "Wählen Sie nun geeignete Symptome aus dem Datensatz aus oder testen Sie ein Training mit allen vorliegenden Daten. Denken Sie daran, aus den Trainingsdaten die Spalte des Labels zu entfernen, sonst ist ein Versuch der Vorhersage sinnlos."
   ],
   "metadata": {
    "collapsed": false,
    "pycharm": {
     "name": "#%% md\n"
    }
   }
  },
  {
   "cell_type": "code",
   "execution_count": 5,
   "outputs": [],
   "source": [
    "# Hier ihr Code"
   ],
   "metadata": {
    "collapsed": false,
    "pycharm": {
     "name": "#%%\n"
    }
   }
  },
  {
   "cell_type": "markdown",
   "source": [
    "Nun können Sie mit dem Training verschiedener Modelle beginnen. Erproben Sie mindestens folgende Methoden:\n",
    "- [Lineare Regression](https://scikit-learn.org/stable/modules/generated/sklearn.linear_model.LinearRegression.html)\n",
    "- [Naive Bayes](https://scikit-learn.org/stable/modules/generated/sklearn.naive_bayes.GaussianNB.html)\n",
    "\n",
    "Auch können Sie gerne weitere Methoden erproben. Zur Auswahl können Sie hierbei sehr gut [diese](https://scikit-learn.org/stable/tutorial/machine_learning_map/index.html) Seite von Scikit-Learn verwenden. In einigen Tests hat sich beispielsweise die [Linear Support Vector Classification](https://scikit-learn.org/stable/modules/generated/sklearn.svm.LinearSVC.html) als sehr gut erwiesen. Auch eine Verwendung anderer Symptome im Training kann sich zur Optimierung als sinnvoll herausstellen."
   ],
   "metadata": {
    "collapsed": false,
    "pycharm": {
     "name": "#%% md\n"
    }
   }
  },
  {
   "cell_type": "code",
   "execution_count": 6,
   "outputs": [],
   "source": [
    "# Hier ihr Code"
   ],
   "metadata": {
    "collapsed": false,
    "pycharm": {
     "name": "#%%\n"
    }
   }
  }
 ],
 "metadata": {
  "kernelspec": {
   "display_name": "Python 3",
   "language": "python",
   "name": "python3"
  },
  "language_info": {
   "codemirror_mode": {
    "name": "ipython",
    "version": 2
   },
   "file_extension": ".py",
   "mimetype": "text/x-python",
   "name": "python",
   "nbconvert_exporter": "python",
   "pygments_lexer": "ipython2",
   "version": "2.7.6"
  }
 },
 "nbformat": 4,
 "nbformat_minor": 0
}