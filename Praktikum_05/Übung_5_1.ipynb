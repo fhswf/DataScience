{
 "cells": [
  {
   "cell_type": "markdown",
   "metadata": {
    "pycharm": {
     "name": "#%% md\n"
    }
   },
   "source": [
    "# Übung 5: Vorhersage von Diabetes anhand verschiedener Merkmale\n",
    "\n",
    "In dieser Aufgabe soll mittels eines [Datensatz](https://www.kaggle.com/datasets/uciml/pima-indians-diabetes-database) des indischen \"National Institute of Diabetes and Digestive and Kidney Diseases\" ein Modell erstellt werden, welches Diabetes anhand verschiedener Merkmale vorhersagen kann. In dieser Aufgabe sollen Sie zum ersten Mal weitgehends komplett frei vorgehen und ein Modell erstellen sowie testen. Denken Sie dabei an das Vorgehen aus den vorherigen Aufgaben. Es soll zumindest eine [logistische Regression](https://scikit-learn.org/stable/modules/generated/sklearn.linear_model.LogisticRegression.html) und ein [Decision Tree Classifier](https://scikit-learn.org/stable/modules/generated/sklearn.tree.DecisionTreeClassifier.html) entwickelt werden. Machen Sie sich wieder zunächst eine Übersicht über die Daten und wählen Sie dann geeignete Features aus. Stellen Sie Ihre Ergebnisse mit Accuracy, Precision, Recall und F1-Score da."
   ]
  },
  {
   "cell_type": "code",
   "execution_count": null,
   "metadata": {
    "collapsed": false,
    "jupyter": {
     "outputs_hidden": false
    },
    "pycharm": {
     "name": "#%%\n"
    }
   },
   "outputs": [],
   "source": []
  }
 ],
 "metadata": {
  "kernelspec": {
   "display_name": "Python 3 (ipykernel)",
   "language": "python",
   "name": "python3"
  },
  "language_info": {
   "codemirror_mode": {
    "name": "ipython",
    "version": 3
   },
   "file_extension": ".py",
   "mimetype": "text/x-python",
   "name": "python",
   "nbconvert_exporter": "python",
   "pygments_lexer": "ipython3",
   "version": "3.10.11"
  }
 },
 "nbformat": 4,
 "nbformat_minor": 4
}
