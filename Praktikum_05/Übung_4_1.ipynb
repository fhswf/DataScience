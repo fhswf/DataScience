{
 "cells": [
  {
   "cell_type": "markdown",
   "metadata": {
    "collapsed": true,
    "pycharm": {
     "name": "#%% md\n"
    }
   },
   "source": [
    "# Übung 5: Vorhersage von Diabetes anhand verschiedener Merkmale\n",
    "\n",
    "In dieser Aufgabe soll mittels eines [Datensatz](https://www.kaggle.com/datasets/uciml/pima-indians-diabetes-database) des indischen \"National Institute of Diabetes and Digestive and Kidney Diseases\" ein Modell erstellt werden, welches Diabetes anhand verschiedener Merkmale vorhersagen kann. In dieser Aufgabe sollen Sie zum ersten Mal weitgehends komplett frei vorgehen und ein Modell erstellen sowie testen. Denken Sie dabei an das Vorgehen aus den vorherigen Aufgaben. Es soll zumindest eine [logistische Regression](https://scikit-learn.org/stable/modules/generated/sklearn.linear_model.LogisticRegression.html) und ein [Decision Tree Classifier](https://scikit-learn.org/stable/modules/generated/sklearn.tree.DecisionTreeClassifier.html) entwickelt werden. Machen Sie sich wieder zunächst eine Übersicht über die Daten und wählen Sie dann geeignete Features aus. Stellen Sie Ihre Ergebnisse mit Accuracy, Precision, Recall und F1-Score da."
   ]
  },
  {
   "cell_type": "code",
   "execution_count": null,
   "outputs": [],
   "source": [],
   "metadata": {
    "collapsed": false,
    "pycharm": {
     "name": "#%%\n"
    }
   }
  }
 ],
 "metadata": {
  "kernelspec": {
   "display_name": "Python 3",
   "language": "python",
   "name": "python3"
  },
  "language_info": {
   "codemirror_mode": {
    "name": "ipython",
    "version": 2
   },
   "file_extension": ".py",
   "mimetype": "text/x-python",
   "name": "python",
   "nbconvert_exporter": "python",
   "pygments_lexer": "ipython2",
   "version": "2.7.6"
  }
 },
 "nbformat": 4,
 "nbformat_minor": 0
}