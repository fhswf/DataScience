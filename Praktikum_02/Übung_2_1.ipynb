{
 "cells": [
  {
   "cell_type": "markdown",
   "metadata": {
    "collapsed": true
   },
   "source": [
    "# Übung 2.1: Darstellung von Wetterdaten\n",
    "\n",
    "In dieser Übung sollen mit der Bibliothek [Matplotlib](https://matplotlib.org/) und Pandas Wetterdaten dargestellt werden. Zunächst gehen Sie hierbei wieder vor wie in den vorherigen Übungen und lesen die Datei \"GlobalLandTemperaturesByCountry.csv\" mittels Pandas ein. Sie können sich hier gerne schonmal eine Übersicht über die Daten machen."
   ]
  },
  {
   "cell_type": "code",
   "execution_count": null,
   "outputs": [],
   "source": [
    "import pandas as pd\n",
    "import matplotlib.pyplot as plt\n",
    "\n",
    "# Hier ihr Code"
   ],
   "metadata": {
    "collapsed": false
   }
  },
  {
   "cell_type": "markdown",
   "source": [
    "Machen Sie sich nun eine Übersicht über die vorhandenen Länder im Datensatz. Stellen sie dann mittels Matplotlib die Anzahl der vorhandenen Temperaturdaten zu den Ländern Spanien (Spain), Sri Lanka, Japan, Deutschland (Germany), Australien (Australia) in einem Säulendiagramm dar."
   ],
   "metadata": {
    "collapsed": false
   }
  },
  {
   "cell_type": "code",
   "execution_count": null,
   "outputs": [],
   "source": [
    "countries = [\"Spain\", \"Sri Lanka\", \"Japan\", \"Germany\", \"Australia\"]\n",
    "# Hier ihr Code"
   ],
   "metadata": {
    "collapsed": false
   }
  },
  {
   "cell_type": "markdown",
   "source": [
    "Sie sollten nun bereits ein einfaches Säulendiagramm erstellt haben. Dieses ist jedoch noch etwas unübersichtlich. Fügen Sie eine Beschriftung für die x- und y-Achse hinzu. Außerdem sollten die Säulen unterschiedliche Farben haben. Wenn Ihnen die Schriftgröße zu klein und die Beschriftungen zu nah an den Achsen sind, können Sie ebenfalls versuchen diese zu verändern."
   ],
   "metadata": {
    "collapsed": false
   }
  },
  {
   "cell_type": "code",
   "execution_count": null,
   "outputs": [],
   "source": [
    "# Hier ihr Code"
   ],
   "metadata": {
    "collapsed": false
   }
  },
  {
   "cell_type": "markdown",
   "source": [
    "Nun sollen die Temperaturen in einem bestimmten Land ab 1950 dargestellt werden. Wählen Sie ein Land oder verwenden sie Deutschland und zeigen mit einem Liniendiagramm den Verlauf der Temperatur über die Jahre. Verwenden Sie nur die ersten 200 Werte."
   ],
   "metadata": {
    "collapsed": false
   }
  },
  {
   "cell_type": "code",
   "execution_count": null,
   "outputs": [],
   "source": [
    "# Hier ihr Code"
   ],
   "metadata": {
    "collapsed": false
   }
  },
  {
   "cell_type": "markdown",
   "source": [
    "Das ist wahrscheinlich leider ein ziemliches Chaos. Zunächst sollten Sie die Spalte für die Datumsangaben in ein spezielles Format namens Datetime ändern, da Matplotlib sonst nicht gut mit den Angaben umgehen kann. Dies geht mit der Funktion \"pd.to_datetime(..)\" und sollte auf dem ganzen Datensatz angewandt werden."
   ],
   "metadata": {
    "collapsed": false
   }
  },
  {
   "cell_type": "code",
   "execution_count": null,
   "outputs": [],
   "source": [
    "# Hier ihr Code"
   ],
   "metadata": {
    "collapsed": false
   }
  },
  {
   "cell_type": "markdown",
   "source": [
    "Dies wirkt wahrscheinlich nun schon etwas ordentlicher. Nun wählen sie aus den Datumsangaben lediglich denselben Monat aus, um eine vernünftige Entwicklung der Temperatur über die Jahre darzustellen. Wählen Sie daher nun auch alle Daten aus."
   ],
   "metadata": {
    "collapsed": false
   }
  },
  {
   "cell_type": "code",
   "execution_count": null,
   "outputs": [],
   "source": [
    "# Hier ihr Code"
   ],
   "metadata": {
    "collapsed": false
   }
  },
  {
   "cell_type": "markdown",
   "source": [
    "Es sollte eine mehr oder weniger schwankende Temperatur gezeigt werden, welche in der Tendenz seit 1950 klar steigt. Wir wollen diese Kurve nun etwas glätten. Dafür verwenden wir die Funktion \"sav_gol_filter(data, 31, 5)\"."
   ],
   "metadata": {
    "collapsed": false
   }
  },
  {
   "cell_type": "code",
   "execution_count": null,
   "outputs": [],
   "source": [
    "from scipy.signal import savgol_filter\n",
    "\n",
    "# Hier ihr Code"
   ],
   "metadata": {
    "collapsed": false
   }
  },
  {
   "cell_type": "markdown",
   "source": [
    "Nun sollte der Anstieg ab 1950 deutlicher zu sehen sein."
   ],
   "metadata": {
    "collapsed": false
   }
  },
  {
   "cell_type": "code",
   "execution_count": null,
   "outputs": [],
   "source": [],
   "metadata": {
    "collapsed": false
   }
  }
 ],
 "metadata": {
  "kernelspec": {
   "display_name": "Python 3",
   "language": "python",
   "name": "python3"
  },
  "language_info": {
   "codemirror_mode": {
    "name": "ipython",
    "version": 2
   },
   "file_extension": ".py",
   "mimetype": "text/x-python",
   "name": "python",
   "nbconvert_exporter": "python",
   "pygments_lexer": "ipython2",
   "version": "2.7.6"
  }
 },
 "nbformat": 4,
 "nbformat_minor": 0
}
