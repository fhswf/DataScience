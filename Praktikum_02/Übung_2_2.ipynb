{
 "cells": [
  {
   "cell_type": "markdown",
   "metadata": {},
   "source": [
    "# Übung 2.2: Hundehalter in Zürich\n",
    "\n",
    "Es liegt ein Datensatz der registrierten Hunde und ihrer Herrchen in der schweizerischen Stadt Zürich vor. Dieser Datensatz soll erneut auf verschiedene Weise mit der Bibliothek [Matplotlib](https://matplotlib.org/) und Pandas ausgewertet werden. Bitte lesen sie die Datei \"hundehalter.csv\" erneut auf gewohntem Wege ein."
   ]
  },
  {
   "cell_type": "code",
   "execution_count": null,
   "metadata": {
    "collapsed": false,
    "jupyter": {
     "outputs_hidden": false
    }
   },
   "outputs": [],
   "source": [
    "import pandas as pd\n",
    "import matplotlib.pyplot as plt\n",
    "\n",
    "# Hier ihr Code"
   ]
  },
  {
   "cell_type": "markdown",
   "metadata": {},
   "source": [
    "Was sind die beliebtesten Hunderassen in der Stadt? Wählen Sie die zehn häufigsten Rassen (Spalte Rasse 1) und erstellen sie eine Übersicht mit einem Kreisdiagramm. Denken Sie an die Beschriftungen der einzelnen Kreisteile."
   ]
  },
  {
   "cell_type": "code",
   "execution_count": null,
   "metadata": {
    "collapsed": false,
    "jupyter": {
     "outputs_hidden": false
    }
   },
   "outputs": [],
   "source": [
    "# Hier ihr Code"
   ]
  },
  {
   "cell_type": "markdown",
   "metadata": {},
   "source": [
    "Wie alt werden die Hunde in der Stadt? Erstellen Sie eine Übersicht über die Geburtsjahre der Hunde und erstellen sie erneut ein Kreis- oder Balkendiagramm. Auch hier sollen die Kreisteile oder Balken wieder beschriftet werden."
   ]
  },
  {
   "cell_type": "code",
   "execution_count": null,
   "metadata": {
    "collapsed": false,
    "jupyter": {
     "outputs_hidden": false
    }
   },
   "outputs": [],
   "source": [
    "# Hier ihr Code"
   ]
  },
  {
   "cell_type": "markdown",
   "metadata": {},
   "source": [
    "Was sind die zehn beliebtesten Hunderassen- und Farben-Kombinationen in der Stadt? Zeigen Sie die Lösung erneut mit einem Kreis- oder Balkendiagramm an."
   ]
  },
  {
   "cell_type": "code",
   "execution_count": null,
   "metadata": {
    "collapsed": false,
    "jupyter": {
     "outputs_hidden": false
    }
   },
   "outputs": [],
   "source": [
    "# Hier ihr Code"
   ]
  },
  {
   "cell_type": "code",
   "execution_count": null,
   "metadata": {
    "collapsed": false,
    "jupyter": {
     "outputs_hidden": false
    }
   },
   "outputs": [],
   "source": []
  }
 ],
 "metadata": {
  "kernelspec": {
   "display_name": "Python 3",
   "language": "python",
   "name": "python3"
  },
  "language_info": {
   "codemirror_mode": {
    "name": "ipython",
    "version": 3
   },
   "file_extension": ".py",
   "mimetype": "text/x-python",
   "name": "python",
   "nbconvert_exporter": "python",
   "pygments_lexer": "ipython3",
   "version": "3.7.3"
  }
 },
 "nbformat": 4,
 "nbformat_minor": 4
}
