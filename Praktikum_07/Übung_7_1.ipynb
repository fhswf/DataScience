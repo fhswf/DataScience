{
 "cells": [
  {
   "cell_type": "markdown",
   "metadata": {
    "collapsed": true,
    "pycharm": {
     "name": "#%% md\n"
    }
   },
   "source": [
    "# Übung 7.1: MNIST mit Neuronalen Netzen und Scikit-Learn\n",
    "\n",
    "In dieser Aufgabe sollen Sie ein Standardbeispiel des Maschinellen Lernens lösen. Dabei geht es um die Erkennung handgeschriebener Ziffern des MNIST-Datensatzes. Nutzen Sie hierfür den [MLPClassifier](https://scikit-learn.org/stable/modules/generated/sklearn.neural_network.MLPClassifier.html) und machen Sie sich mit seinen Parametern vertraut. Der MNIST-Datensatz liegt Ihnen als CSV-Datei (mnist_train.csv = Trainingsdaten, mnist_test.csv = Testdaten) wobei jede Zeile die Bildpunkte eines Grauwertbildes (einzelne Bildwerte zwischen 0 und 255) mit einem Label (Zahlen zwischen 0 und 9) repräsentiert. Erstellen Sie ein Neuronales Netz mit 784 Eingabeneuronen, zwei Layern mit je 784 und 128 Hidden-Neuronen und 10 Ausgabeneuronen. Die Eingabe- und Ausgabelayer übernimmt dabei Scikit-Learn automatisch anhand der Form Ihrer Eingaben. In der folgenden Grafik ist dieses Netz vereinfacht mit Nullen sowie Einsen als Eingabedaten und mit noch 2-dimensionalen Eingabedaten repräsentiert:\n",
    "\n",
    "![neural_net](./MNIST.png)\n",
    "\n",
    "Passen Sie die Parameter des MLPClassifier so an, dass er Informationen über die aktuelle Iteration ausgibt und ein Training bei einer fehlenden Verbesserung vorzeitig stoppt."
   ]
  },
  {
   "cell_type": "code",
   "execution_count": 7,
   "outputs": [],
   "source": [
    "import pandas as pd\n",
    "import matplotlib.pyplot as plt\n",
    "import numpy as np\n",
    "from sklearn.neural_network import MLPClassifier\n",
    "\n",
    "train_df = pd.read_csv(\"mnist_test.csv\")\n",
    "test_df = pd.read_csv(\"mnist_train.csv\")"
   ],
   "metadata": {
    "collapsed": false,
    "pycharm": {
     "name": "#%%\n"
    }
   }
  },
  {
   "cell_type": "markdown",
   "source": [
    "In dieser Zelle wird eine Ziffer des MNIST-Datensatz dargestellt."
   ],
   "metadata": {
    "collapsed": false,
    "pycharm": {
     "name": "#%% md\n"
    }
   }
  },
  {
   "cell_type": "code",
   "execution_count": null,
   "outputs": [],
   "source": [
    "im = train_df.to_numpy()[0, 1:].reshape((28, 28))\n",
    "plt.imshow(im, cmap='gray', vmin=0, vmax=255)\n",
    "plt.show()"
   ],
   "metadata": {
    "collapsed": false,
    "pycharm": {
     "name": "#%%\n",
     "is_executing": true
    }
   }
  }
 ],
 "metadata": {
  "kernelspec": {
   "display_name": "Python 3",
   "language": "python",
   "name": "python3"
  },
  "language_info": {
   "codemirror_mode": {
    "name": "ipython",
    "version": 2
   },
   "file_extension": ".py",
   "mimetype": "text/x-python",
   "name": "python",
   "nbconvert_exporter": "python",
   "pygments_lexer": "ipython2",
   "version": "2.7.6"
  }
 },
 "nbformat": 4,
 "nbformat_minor": 0
}