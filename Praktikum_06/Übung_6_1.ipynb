{
 "cells": [
  {
   "cell_type": "markdown",
   "metadata": {},
   "source": [
    "# Übung 6: Darstellung von Linearer Regression\n",
    "\n",
    "Heute nutzen wir den bereits aus Aufgabe 1 bekannten Datensatz mit Gebrauchtwagenpreisen. Machen Sie wie bereits gelernt Vorhersagen über die Preise anhand der Spalte \"Mileage\" (gefahrene Kilometer) oder einer Spalte Ihrer Wahl. Stellen Sie dann in einem Streudiagramm den Zusammenhang zwischen Autopreis und der gewählten Spalte dar. Versuchen Sie nun die erstellte lineare Funktion der linearen Regression zu plotten. Die nötigen Variablen erhalten Sie dabei über die Attribute \"lr.intercept_\" (Schnittpunkt mit der Y-Achse) und \"lr.coef_\\[Nummer des Koeffizienten\\]\" (Steigung).\n",
    "\n"
   ]
  },
  {
   "cell_type": "code",
   "execution_count": null,
   "metadata": {
    "collapsed": false,
    "jupyter": {
     "outputs_hidden": false
    }
   },
   "outputs": [],
   "source": []
  }
 ],
 "metadata": {
  "kernelspec": {
   "display_name": "Python 3 (ipykernel)",
   "language": "python",
   "name": "python3"
  },
  "language_info": {
   "codemirror_mode": {
    "name": "ipython",
    "version": 3
   },
   "file_extension": ".py",
   "mimetype": "text/x-python",
   "name": "python",
   "nbconvert_exporter": "python",
   "pygments_lexer": "ipython3",
   "version": "3.10.11"
  }
 },
 "nbformat": 4,
 "nbformat_minor": 4
}
