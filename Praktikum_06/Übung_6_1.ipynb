{
 "cells": [
  {
   "cell_type": "markdown",
   "metadata": {
    "collapsed": true
   },
   "source": [
    "# Übung 6: Darstellung von Linearer Regression\n",
    "\n",
    "Heute nutzen wir den bereits aus Aufgabe 1 bekannten Datensatz mit Gebrauchtwagenpreisen. Machen Sie wie bereits gelernt Vorhersagen über die Preise anhand der Spalte \"Mileage\" (gefahrene Kilometer) oder einer Spalte Ihrer Wahl. Stellen Sie dann in einem Streudiagramm den Zusammenhang zwischen Autopreis und der gewählten Spalte dar. Versuchen Sie nun die erstellte lineare Funktion der linearen Regression zu plotten. Die nötigen Variablen erhalten Sie dabei über die Attribute \"lr.intercept_\" (Schnittpunkt mit der Y-Achse) und \"lr.coef_\\[Nummer des Koeffizienten\\]\" (Steigung).\n",
    "\n"
   ]
  },
  {
   "cell_type": "code",
   "execution_count": null,
   "outputs": [],
   "source": [],
   "metadata": {
    "collapsed": false
   }
  }
 ],
 "metadata": {
  "kernelspec": {
   "display_name": "Python 3",
   "language": "python",
   "name": "python3"
  },
  "language_info": {
   "codemirror_mode": {
    "name": "ipython",
    "version": 2
   },
   "file_extension": ".py",
   "mimetype": "text/x-python",
   "name": "python",
   "nbconvert_exporter": "python",
   "pygments_lexer": "ipython2",
   "version": "2.7.6"
  }
 },
 "nbformat": 4,
 "nbformat_minor": 0
}
