{
 "cells": [
  {
   "cell_type": "markdown",
   "id": "affected-reviewer",
   "metadata": {},
   "source": [
    "# Übung 1.1: Analyse einer Buchdatenbank\n",
    "\n",
    "In dieser Übung wird die Analyse eines Datensatz von Buchdaten behandelt (https://www.kaggle.com/datasets/jealousleopard/goodreadsbooks). Dieser ist in der Datei \"books.csv\" gespeichert. Bitte nutzen Sie die Methode \"read_csv\" von Pandas, um den Datensatz einzulesen. Funktioniert dies direkt? Falls nicht, wie könnte der Datensatz trotzdem geladen werden?"
   ]
  },
  {
   "cell_type": "code",
   "execution_count": 1,
   "id": "promising-summit",
   "metadata": {},
   "outputs": [],
   "source": [
    "import pandas as pd\n",
    "\n",
    "books = \"books.csv\"\n",
    "# Hier Ihre Lösung"
   ]
  },
  {
   "cell_type": "markdown",
   "id": "reliable-suicide",
   "metadata": {},
   "source": [
    "Haben Sie nun den Datensatz erfolgreich eingelesen, nehmen Sie bitte folgende Analysen vor:\n",
    "\n",
    "1. Wie viele gültige Bücher sind im Datensatz vorhanden?\n",
    "2. Welche Daten sind im Datensatz enthalten? Bitte hierzu die Spaltennamen ausgeben.\n",
    "3. Welche Autoren haben laut der Liste die meisten Bücher veröffentlicht?\n",
    "4. Wie viele Bücher haben diese veröffentlicht?\n",
    "5. Welche zehn Publisher haben die meisten Bücher veröffentlicht?\n",
    "6. Wann hat \"Isaac Asimov\" welche Bücher herausgebracht?\n",
    "7. Welche zehn Bücher in der Liste haben die höchste Seitenzahl? Bitte nur Title oder Seitenzahl ausgeben.\n",
    "8. Welche Bücher von \"Isaac Asimov\" sind am besten bewertet? Hierzu alle Bücher absteigend nach Bewertung sortieren.\n",
    "9. Für eine Analyse werden Bücher mit den Worten \"Fellowship\", \"Towers\" und \"King\" im Titel gesucht. Welche kommen hierfür infrage?"
   ]
  },
  {
   "cell_type": "code",
   "execution_count": 2,
   "id": "inappropriate-brazil",
   "metadata": {},
   "outputs": [],
   "source": [
    "pd.options.display.max_colwidth = 75\n",
    "\n",
    "# Hier Ihre Lösungen"
   ]
  }
 ],
 "metadata": {
  "kernelspec": {
   "display_name": "Python 3 (ipykernel)",
   "language": "python",
   "name": "python3"
  },
  "language_info": {
   "codemirror_mode": {
    "name": "ipython",
    "version": 3
   },
   "file_extension": ".py",
   "mimetype": "text/x-python",
   "name": "python",
   "nbconvert_exporter": "python",
   "pygments_lexer": "ipython3",
   "version": "3.10.11"
  }
 },
 "nbformat": 4,
 "nbformat_minor": 5
}
