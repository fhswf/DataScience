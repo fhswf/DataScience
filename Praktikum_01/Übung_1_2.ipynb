{
 "cells": [
  {
   "cell_type": "markdown",
   "metadata": {},
   "source": [
    "# Übung 1.2: Vorhersagen von Gebrauchtwagenpreisen\n",
    "\n",
    "In der Datei \"ford.csv\" findet sich eine Datenbank mit Verkaufspreisen [gebrauchter Fords](https://www.kaggle.com/datasets/adityadesai13/used-car-dataset-ford-and-mercedes?select=ford.csv). Lesen Sie die Datei ein und analysieren Sie sie. Welche Informationen liegen vor? Teilen Sie bitte die Daten mittels ScikitLearn \"[train_test_split](https://scikit-learn.org/stable/modules/generated/sklearn.model_selection.train_test_split.html)\" in 80% Trainings- und 20% Testdaten auf."
   ]
  },
  {
   "cell_type": "code",
   "execution_count": 1,
   "metadata": {},
   "outputs": [],
   "source": [
    "import pandas as pd\n",
    "from sklearn.model_selection import train_test_split\n",
    "\n",
    "car_prices = \"ford.csv\"\n",
    "# Hier Ihre Lösungen"
   ]
  },
  {
   "cell_type": "markdown",
   "metadata": {},
   "source": [
    "Versuchen Sie nun mittels ScikitLearn und [linearer Regression](https://scikit-learn.org/stable/modules/generated/sklearn.linear_model.LinearRegression.html) eine Vorhersage über den Verkaufspreis (Price) zu geben. Nutzen Sie dafür ein oder mehrere passende numerische Feature Ihrer Wahl. Nutzen Sie zum Trainieren Ihres Models die Methode \"fit\". Bevor Sie die Daten in ihrem Model verwenden können, müssen Sie diese ggf. über das Attribut \"values\" extrahieren und reshapen. "
   ]
  },
  {
   "cell_type": "code",
   "execution_count": 2,
   "metadata": {},
   "outputs": [],
   "source": [
    "from sklearn.linear_model import LinearRegression\n",
    "# Hier Ihre Lösungen"
   ]
  },
  {
   "cell_type": "markdown",
   "metadata": {},
   "source": [
    "Testen Sie nun wie ihr Model abschneidet. Verwenden Sie dazu die Methode \"score\" Ihres Models. Für das resphapen Daten gilt hier das selbe wie beim Trainieren. Versuchen Sie dies ebenfalls mit der Methode \"predict\" und einigen Beispielsautos aus den Testdaten manuell zu überprüfen."
   ]
  },
  {
   "cell_type": "code",
   "execution_count": 3,
   "metadata": {},
   "outputs": [],
   "source": [
    "# Hier Ihre Lösungen"
   ]
  }
 ],
 "metadata": {
  "kernelspec": {
   "display_name": "Python 3",
   "language": "python",
   "name": "python3"
  },
  "language_info": {
   "codemirror_mode": {
    "name": "ipython",
    "version": 3
   },
   "file_extension": ".py",
   "mimetype": "text/x-python",
   "name": "python",
   "nbconvert_exporter": "python",
   "pygments_lexer": "ipython3",
   "version": "3.8.3"
  }
 },
 "nbformat": 4,
 "nbformat_minor": 4
}
