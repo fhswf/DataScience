{
 "cells": [
  {
   "cell_type": "code",
   "execution_count": 30,
   "id": "5753690f-858f-4f61-a3a8-2f088551e938",
   "metadata": {
    "tags": []
   },
   "outputs": [
    {
     "data": {
      "application/vnd.jupyter.widget-view+json": {
       "model_id": "a4f07a9f022e4336802426b8d39f4d7d",
       "version_major": 2,
       "version_minor": 0
      },
      "text/plain": [
       "  0%|          | 0/100000000 [00:00<?, ?it/s]"
      ]
     },
     "metadata": {},
     "output_type": "display_data"
    }
   ],
   "source": [
    "from tqdm.notebook import tqdm\n",
    "N = 100000000\n",
    "\n",
    "for i in tqdm(range(N)):\n",
    "    pass"
   ]
  },
  {
   "cell_type": "markdown",
   "id": "moral-reproduction",
   "metadata": {},
   "source": [
    "## Kommen Erstgeborene später zur Welt?\n",
    "\n",
    "Oft hört man, dass erstgeborene Babies später zur Welt kommen als folgende Babies. Bei meinen eigenen Söhnen war das auch so. \n",
    "Aber gibt es da tatsächlichen einen Effekt? Und wenn ja, wie groß ist er?\n",
    "\n"
   ]
  },
  {
   "cell_type": "markdown",
   "id": "terminal-cigarette",
   "metadata": {},
   "source": [
    "Der folgende Code stammt aus dem Buch [Think Stats](https://greenteapress.com/thinkstats2). Er lädt einen Datensatz der [National Survey of Family Growth (NSFG)](http://cdc.gov/nchs/nsfg.htm) mit statistischen Informationen zu Schwangerschaften in den USA."
   ]
  },
  {
   "cell_type": "code",
   "execution_count": 7,
   "id": "cultural-crime",
   "metadata": {
    "tags": []
   },
   "outputs": [],
   "source": [
    "from __future__ import print_function\n",
    "import numpy as np\n",
    "import thinkstats2\n",
    "import thinkplot"
   ]
  },
  {
   "cell_type": "code",
   "execution_count": 8,
   "id": "presidential-workplace",
   "metadata": {
    "tags": []
   },
   "outputs": [],
   "source": [
    "def CleanFemPreg(df):\n",
    "    \"\"\"Recodes variables from the pregnancy frame.\n",
    "\n",
    "    df: DataFrame\n",
    "    \"\"\"\n",
    "    # mother's age is encoded in centiyears; convert to years\n",
    "    df.agepreg /= 100.0\n",
    "\n",
    "    # birthwgt_lb contains at least one bogus value (51 lbs)\n",
    "    # replace with NaN\n",
    "    df.loc[df.birthwgt_lb1 > 20, 'birthwgt_lb1'] = np.nan\n",
    "    \n",
    "    # replace 'not ascertained', 'refused', 'don't know' with NaN\n",
    "    na_vals = [97, 98, 99]\n",
    "    df.birthwgt_lb1.replace(na_vals, np.nan, inplace=True)\n",
    "    df.birthwgt_oz1.replace(na_vals, np.nan, inplace=True)\n",
    "\n",
    "    # birthweight is stored in two columns, lbs and oz.\n",
    "    # convert to a single column in lb\n",
    "    # NOTE: creating a new column requires dictionary syntax,\n",
    "    # not attribute assignment (like df.totalwgt_lb)\n",
    "    df['totalwgt_lb'] = df.birthwgt_lb1 + df.birthwgt_oz1 / 16.0    \n",
    "\n",
    "    # due to a bug in ReadStataDct, the last variable gets clipped;\n",
    "    # so for now set it to NaN\n",
    "    df.phase = np.nan"
   ]
  },
  {
   "cell_type": "code",
   "execution_count": 9,
   "id": "optional-century",
   "metadata": {
    "tags": []
   },
   "outputs": [],
   "source": [
    "def ReadFemPreg(dct_file='2006_2010_FemPregSetup.dct',\n",
    "                dat_file='2006_2010_FemPreg.dat.gz'):\n",
    "    \"\"\"Reads the NSFG 2006-2010 pregnancy data.\n",
    "\n",
    "    dct_file: string file name\n",
    "    dat_file: string file name\n",
    "\n",
    "    returns: DataFrame\n",
    "    \"\"\"\n",
    "    dct = thinkstats2.ReadStataDct(dct_file, encoding='iso-8859-1')\n",
    "    df = dct.ReadFixedWidth(dat_file, compression='gzip')\n",
    "    CleanFemPreg(df)\n",
    "    return df"
   ]
  },
  {
   "cell_type": "code",
   "execution_count": 10,
   "id": "treated-restoration",
   "metadata": {
    "tags": []
   },
   "outputs": [],
   "source": [
    "def MakeFrames():\n",
    "    \"\"\"Reads pregnancy data and partitions first babies and others.\n",
    "\n",
    "    returns: DataFrames (all live births, first babies, others)\n",
    "    \"\"\"\n",
    "    preg = ReadFemPreg()\n",
    "\n",
    "    live = preg[preg.outcome == 1]\n",
    "    firsts = live[live.birthord == 1]\n",
    "    others = live[live.birthord != 1]\n",
    "\n",
    "    assert(len(live) == 14292)\n",
    "    assert(len(firsts) == 6683)\n",
    "    assert(len(others) == 7609)\n",
    "\n",
    "    return live, firsts, others"
   ]
  },
  {
   "cell_type": "markdown",
   "id": "intensive-plumbing",
   "metadata": {},
   "source": [
    "Die folgende Zelle lädt die Datensätze zu Lebendgeburten insgesamt sowie Erstgeburten und Folgegeburten."
   ]
  },
  {
   "cell_type": "code",
   "execution_count": 11,
   "id": "convertible-kenya",
   "metadata": {
    "tags": []
   },
   "outputs": [],
   "source": [
    "live, firsts, others = MakeFrames()"
   ]
  },
  {
   "cell_type": "markdown",
   "id": "interracial-graham",
   "metadata": {},
   "source": [
    "Das Feld `prglngth` enthält dabei die Länge der Schwangerschaft in Wochen."
   ]
  },
  {
   "cell_type": "code",
   "execution_count": 12,
   "id": "secure-stretch",
   "metadata": {
    "tags": []
   },
   "outputs": [
    {
     "data": {
      "text/plain": [
       "4        41\n",
       "5        41\n",
       "6        40\n",
       "7        38\n",
       "8        40\n",
       "         ..\n",
       "20486    42\n",
       "20487    39\n",
       "20489    41\n",
       "20490    40\n",
       "20491    41\n",
       "Name: prglngth, Length: 14292, dtype: int64"
      ]
     },
     "execution_count": 12,
     "metadata": {},
     "output_type": "execute_result"
    }
   ],
   "source": [
    "live[\"prglngth\"]"
   ]
  },
  {
   "cell_type": "markdown",
   "id": "criminal-union",
   "metadata": {},
   "source": [
    "## Aufgabe: Untersuchung der Daten\n",
    "\n",
    "Untersuchen Sie die geladenen Daten:\n",
    "\n",
    "- Wie ist die durchschnittliche Länge einer ersten bzw. folgenden Schwangerschaft?\n",
    "- Wie hoch ist die Varianz der Schwangerschaftslänge?"
   ]
  },
  {
   "cell_type": "code",
   "execution_count": 15,
   "id": "continental-fairy",
   "metadata": {},
   "outputs": [
    {
     "data": {
      "text/plain": [
       "(<Axes: >, <Axes: >)"
      ]
     },
     "execution_count": 15,
     "metadata": {},
     "output_type": "execute_result"
    },
    {
     "data": {
      "image/png": "[encoded data removed]",
      "text/plain": [
       "<Figure size 640x480 with 1 Axes>"
      ]
     },
     "metadata": {},
     "output_type": "display_data"
    }
   ],
   "source": [
    "firsts[\"prglngth\"].hist(), others[\"prglngth\"].hist()"
   ]
  },
  {
   "cell_type": "code",
   "execution_count": 18,
   "id": "a4d8bdb1-a3a6-42ff-a7e9-a534eb5b1a72",
   "metadata": {
    "tags": []
   },
   "outputs": [
    {
     "data": {
      "text/plain": [
       "(38.587759988029326, 38.4230516493626, 1.1529583706670934)"
      ]
     },
     "execution_count": 18,
     "metadata": {},
     "output_type": "execute_result"
    }
   ],
   "source": [
    "firsts[\"prglngth\"].mean(), others[\"prglngth\"].mean(), 7*(firsts[\"prglngth\"].mean() - others[\"prglngth\"].mean())"
   ]
  },
  {
   "cell_type": "markdown",
   "id": "timely-paintball",
   "metadata": {},
   "source": [
    "## Kommen Erstgeborene später zur Welt? – Teil 2\n",
    "\n",
    "Im ersten Teil haben wir gesehen, dass die Schwangerschaft bei Erstgebärenden im Schnitt knapp 1.2 Tage länger dauert als bei den übrigen Schwangerschaften.\n",
    "\n",
    "Heute wollen wir untersuchen, ob dieser Effekt *statistisch signifikant* ist, d.h. ob er mit großer Wahrscheinlichkeit **nicht zufällig** ist.\n",
    "Dazu folgen wir dem Ansatz:\n",
    "\n",
    "- Wir haben insgesamt Daten zu 14292 Schwangerschaften mit Lebendgeburten, davon 6683 Erstgeburten. \n",
    "- Um zu untersuchen, ob der Unterschied signifikant ist, wählen wir zufällige Stichproben von 6683 Geburten aus und schauen uns an, wie der Durchschnitt der \n",
    "  Schwangerschaftsdauer in diesen Stichproben verteilt ist. Insbesondere bestimmen wir, in wie vielen Fällen der Unterschied größer ist als der beobachtete.\n",
    "- Ist dies in mehr als **5%** der Stichproben der Fall (\"p-Wert\"), müssen wir davon ausgehen, dass wir eine zufällige Abweichung **nicht ausschließen** können.  "
   ]
  },
  {
   "cell_type": "code",
   "execution_count": 26,
   "id": "foreign-right",
   "metadata": {},
   "outputs": [
    {
     "data": {
      "application/vnd.jupyter.widget-view+json": {
       "model_id": "00a54f4a4c1247da9a606730ece9e857",
       "version_major": 2,
       "version_minor": 0
      },
      "text/plain": [
       "  0%|          | 0/100000 [00:00<?, ?it/s]"
      ]
     },
     "metadata": {},
     "output_type": "display_data"
    },
    {
     "name": "stdout",
     "output_type": "stream",
     "text": [
      "p-Wert: 6e-05 6\n"
     ]
    }
   ],
   "source": [
    "from tqdm.notebook import tqdm\n",
    "N = 100000\n",
    "cutoff = firsts[\"prglngth\"].mean()\n",
    "\n",
    "count = 0\n",
    "for i in tqdm(range(N)):\n",
    "    sample = live[\"prglngth\"].sample(6683).mean()\n",
    "    if sample > cutoff:\n",
    "        count += 1\n",
    "print(f\"p-Wert: {count/N} {count}\")"
   ]
  },
  {
   "cell_type": "code",
   "execution_count": null,
   "id": "da908c5b-a9c5-45ad-bc80-2b0eb197717a",
   "metadata": {},
   "outputs": [],
   "source": []
  }
 ],
 "metadata": {
  "kernelspec": {
   "display_name": "Python 3 (ipykernel)",
   "language": "python",
   "name": "python3"
  },
  "language_info": {
   "codemirror_mode": {
    "name": "ipython",
    "version": 3
   },
   "file_extension": ".py",
   "mimetype": "text/x-python",
   "name": "python",
   "nbconvert_exporter": "python",
   "pygments_lexer": "ipython3",
   "version": "3.10.11"
  }
 },
 "nbformat": 4,
 "nbformat_minor": 5
}
