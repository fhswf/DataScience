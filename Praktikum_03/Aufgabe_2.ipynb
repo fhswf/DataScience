{
 "cells": [
  {
   "cell_type": "markdown",
   "id": "moral-reproduction",
   "metadata": {},
   "source": [
    "## Kommen Erstgeborene später zur Welt?\n",
    "\n",
    "Oft hört man, dass erstgeborene Babies später zur Welt kommen als folgende Babies. Bei meinen eigenen Söhnen war das auch so. \n",
    "Aber gibt es da tatsächlichen einen Effekt? Und wenn ja, wie groß ist er?\n",
    "\n"
   ]
  },
  {
   "cell_type": "markdown",
   "id": "terminal-cigarette",
   "metadata": {},
   "source": [
    "Der folgende Code stammt aus dem Buch [Think Stats](https://greenteapress.com/thinkstats2). Er lädt einen Datensatz der [National Survey of Family Growth (NSFG)](http://cdc.gov/nchs/nsfg.htm) mit statistischen Informationen zu Schwangerschaften in den USA."
   ]
  },
  {
   "cell_type": "code",
   "execution_count": 3,
   "id": "cultural-crime",
   "metadata": {},
   "outputs": [],
   "source": [
    "from __future__ import print_function\n",
    "import numpy as np\n",
    "import thinkstats2\n",
    "import thinkplot"
   ]
  },
  {
   "cell_type": "code",
   "execution_count": 4,
   "id": "presidential-workplace",
   "metadata": {},
   "outputs": [],
   "source": [
    "def CleanFemPreg(df):\n",
    "    \"\"\"Recodes variables from the pregnancy frame.\n",
    "\n",
    "    df: DataFrame\n",
    "    \"\"\"\n",
    "    # mother's age is encoded in centiyears; convert to years\n",
    "    df.agepreg /= 100.0\n",
    "\n",
    "    # birthwgt_lb contains at least one bogus value (51 lbs)\n",
    "    # replace with NaN\n",
    "    df.loc[df.birthwgt_lb1 > 20, 'birthwgt_lb1'] = np.nan\n",
    "    \n",
    "    # replace 'not ascertained', 'refused', 'don't know' with NaN\n",
    "    na_vals = [97, 98, 99]\n",
    "    df.birthwgt_lb1.replace(na_vals, np.nan, inplace=True)\n",
    "    df.birthwgt_oz1.replace(na_vals, np.nan, inplace=True)\n",
    "\n",
    "    # birthweight is stored in two columns, lbs and oz.\n",
    "    # convert to a single column in lb\n",
    "    # NOTE: creating a new column requires dictionary syntax,\n",
    "    # not attribute assignment (like df.totalwgt_lb)\n",
    "    df['totalwgt_lb'] = df.birthwgt_lb1 + df.birthwgt_oz1 / 16.0    \n",
    "\n",
    "    # due to a bug in ReadStataDct, the last variable gets clipped;\n",
    "    # so for now set it to NaN\n",
    "    df.phase = np.nan"
   ]
  },
  {
   "cell_type": "code",
   "execution_count": 5,
   "id": "optional-century",
   "metadata": {},
   "outputs": [],
   "source": [
    "def ReadFemPreg(dct_file='2006_2010_FemPregSetup.dct',\n",
    "                dat_file='2006_2010_FemPreg.dat.gz'):\n",
    "    \"\"\"Reads the NSFG 2006-2010 pregnancy data.\n",
    "\n",
    "    dct_file: string file name\n",
    "    dat_file: string file name\n",
    "\n",
    "    returns: DataFrame\n",
    "    \"\"\"\n",
    "    dct = thinkstats2.ReadStataDct(dct_file, encoding='iso-8859-1')\n",
    "    df = dct.ReadFixedWidth(dat_file, compression='gzip')\n",
    "    CleanFemPreg(df)\n",
    "    return df"
   ]
  },
  {
   "cell_type": "code",
   "execution_count": 6,
   "id": "treated-restoration",
   "metadata": {},
   "outputs": [],
   "source": [
    "def MakeFrames():\n",
    "    \"\"\"Reads pregnancy data and partitions first babies and others.\n",
    "\n",
    "    returns: DataFrames (all live births, first babies, others)\n",
    "    \"\"\"\n",
    "    preg = ReadFemPreg()\n",
    "\n",
    "    live = preg[preg.outcome == 1]\n",
    "    firsts = live[live.birthord == 1]\n",
    "    others = live[live.birthord != 1]\n",
    "\n",
    "    assert(len(live) == 14292)\n",
    "    assert(len(firsts) == 6683)\n",
    "    assert(len(others) == 7609)\n",
    "\n",
    "    return live, firsts, others"
   ]
  },
  {
   "cell_type": "markdown",
   "id": "intensive-plumbing",
   "metadata": {},
   "source": [
    "Die folgende Zelle lädt die Datensätze zu Lebendgeburten insgesamt sowie Erstgeburten und Folgegeburten."
   ]
  },
  {
   "cell_type": "code",
   "execution_count": 7,
   "id": "convertible-kenya",
   "metadata": {},
   "outputs": [],
   "source": [
    "live, firsts, others = MakeFrames()"
   ]
  },
  {
   "cell_type": "markdown",
   "id": "interracial-graham",
   "metadata": {},
   "source": [
    "Das Feld `prglngth` enthält dabei die Länge der Schwangerschaft in Wochen."
   ]
  },
  {
   "cell_type": "code",
   "execution_count": 11,
   "id": "secure-stretch",
   "metadata": {},
   "outputs": [
    {
     "data": {
      "text/plain": [
       "4        41\n",
       "5        41\n",
       "6        40\n",
       "7        38\n",
       "8        40\n",
       "         ..\n",
       "20486    42\n",
       "20487    39\n",
       "20489    41\n",
       "20490    40\n",
       "20491    41\n",
       "Name: prglngth, Length: 14292, dtype: int64"
      ]
     },
     "execution_count": 11,
     "metadata": {},
     "output_type": "execute_result"
    }
   ],
   "source": [
    "live[\"prglngth\"]"
   ]
  },
  {
   "cell_type": "markdown",
   "id": "criminal-union",
   "metadata": {},
   "source": [
    "## Aufgabe: Untersuchung der Daten\n",
    "\n",
    "Untersuchen Sie die geladenen Daten:\n",
    "\n",
    "- Wie ist die durchschnittliche Länge einer ersten bzw. folgenden Schwangerschaft?\n",
    "- Wie hoch ist die Varianz der Schwangerschaftslänge?"
   ]
  },
  {
   "cell_type": "code",
   "execution_count": null,
   "id": "continental-fairy",
   "metadata": {},
   "outputs": [],
   "source": []
  },
  {
   "cell_type": "markdown",
   "id": "timely-paintball",
   "metadata": {},
   "source": [
    "## Kommen Erstgeborene später zur Welt? – Teil 2\n",
    "\n",
    "Im ersten Teil haben wir gesehen, dass die Schwangerschaft bei Erstgebärenden im Schnitt knapp 1.2 Tage länger dauert als bei den übrigen Schwangerschaften.\n",
    "\n",
    "Heute wollen wir untersuchen, ob dieser Effekt *statistisch signifikant* ist, d.h. ob er mit großer Wahrscheinlichkeit **nicht zufällig** ist.\n",
    "Dazu folgen wir dem Ansatz:\n",
    "\n",
    "- Wir haben insgesamt Daten zu 14292 Schwangerschaften mit Lebendgeburten, davon 6683 Erstgeburten. \n",
    "- Um zu untersuchen, ob der Unterschied signifikant ist, wählen wir zufällige Stichproben von 6683 Geburten aus und schauen uns an, wie der Durchschnitt der \n",
    "  Schwangerschaftsdauer in diesen Stichproben verteilt ist. Insbesondere bestimmen wir, in wie vielen Fällen der Unterschied größer ist als der beobachtete.\n",
    "- Ist dies in mehr als **5%** der Stichproben der Fall (\"p-Wert\"), müssen wir davon ausgehen, dass wir eine zufällige Abweichung **nicht ausschließen** können.  "
   ]
  },
  {
   "cell_type": "code",
   "execution_count": null,
   "id": "foreign-right",
   "metadata": {},
   "outputs": [],
   "source": []
  }
 ],
 "metadata": {
  "kernelspec": {
   "display_name": "Python 3",
   "language": "python",
   "name": "python3"
  },
  "language_info": {
   "codemirror_mode": {
    "name": "ipython",
    "version": 3
   },
   "file_extension": ".py",
   "mimetype": "text/x-python",
   "name": "python",
   "nbconvert_exporter": "python",
   "pygments_lexer": "ipython3",
   "version": "3.7.3"
  }
 },
 "nbformat": 4,
 "nbformat_minor": 5
}
