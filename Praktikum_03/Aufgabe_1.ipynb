{
 "cells": [
  {
   "cell_type": "markdown",
   "id": "responsible-bryan",
   "metadata": {},
   "source": [
    "## Was bringt eine Corona-Impfung?\n",
    "\n",
    "Laut aktuellen Statistiken sind 45% der über 60-Jährigen, die aufgrund von Corona intensivmedizinisch behandelt werden müssen, geimpft. \n",
    "Dann bringt die Impfung doch fast gar nichts! Oder?\n",
    "\n",
    "Nach aktuellen Zahlen des RKI sind 86% der über 60-Jährigen geimpft.\n",
    "\n",
    "Wie viel höher ist das Risiko der ungeimpften im Vergleich zu den geimpften über 60-Jährigen, dass sie intensivmedizinisch behandelt werden müssen?"
   ]
  },
  {
   "cell_type": "code",
   "execution_count": null,
   "id": "experienced-occasion",
   "metadata": {},
   "outputs": [],
   "source": []
  }
 ],
 "metadata": {
  "kernelspec": {
   "display_name": "Python 3",
   "language": "python",
   "name": "python3"
  },
  "language_info": {
   "codemirror_mode": {
    "name": "ipython",
    "version": 3
   },
   "file_extension": ".py",
   "mimetype": "text/x-python",
   "name": "python",
   "nbconvert_exporter": "python",
   "pygments_lexer": "ipython3",
   "version": "3.7.3"
  }
 },
 "nbformat": 4,
 "nbformat_minor": 5
}
