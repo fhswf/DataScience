{
 "cells": [
  {
   "cell_type": "markdown",
   "id": "responsible-bryan",
   "metadata": {},
   "source": [
    "## Was bringt eine Corona-Impfung?\n",
    "\n",
    "Laut aktuellen Statistiken sind 45% der über 60-Jährigen, die aufgrund von Corona intensivmedizinisch behandelt werden müssen, geimpft. \n",
    "Dann bringt die Impfung doch fast gar nichts! Oder?\n",
    "\n",
    "Nach aktuellen Zahlen des RKI sind 86% der über 60-Jährigen geimpft.\n",
    "\n",
    "Wie viel höher ist das Risiko der ungeimpften im Vergleich zu den geimpften über 60-Jährigen, dass sie intensivmedizinisch behandelt werden müssen?"
   ]
  },
  {
   "cell_type": "code",
   "execution_count": 4,
   "id": "experienced-occasion",
   "metadata": {},
   "outputs": [
    {
     "data": {
      "text/plain": [
       "7.507936507936509"
      ]
     },
     "execution_count": 4,
     "metadata": {},
     "output_type": "execute_result"
    }
   ],
   "source": [
    "1/(0.45/0.55 * 14/86)"
   ]
  },
  {
   "cell_type": "code",
   "execution_count": null,
   "id": "8e5093ee-5722-4be9-a035-2f75f9b9caea",
   "metadata": {},
   "outputs": [],
   "source": []
  }
 ],
 "metadata": {
  "kernelspec": {
   "display_name": "Python 3 (ipykernel)",
   "language": "python",
   "name": "python3"
  },
  "language_info": {
   "codemirror_mode": {
    "name": "ipython",
    "version": 3
   },
   "file_extension": ".py",
   "mimetype": "text/x-python",
   "name": "python",
   "nbconvert_exporter": "python",
   "pygments_lexer": "ipython3",
   "version": "3.10.11"
  }
 },
 "nbformat": 4,
 "nbformat_minor": 5
}
