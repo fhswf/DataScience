{
 "cells": [
  {
   "cell_type": "markdown",
   "id": "42613548-1f1e-4c26-bf8e-27ce73865f2f",
   "metadata": {},
   "source": [
    "# Clustering\n",
    "\n",
    "In diesem Praktikum geht es um das Thema Clustering. Als Beispieldatensatz verwenden wir das\n",
    "[Wine Dataset](https://archive.ics.uci.edu/ml/datasets/wine) der University of California, Irvine:"
   ]
  },
  {
   "cell_type": "code",
   "execution_count": 1,
   "id": "ac45f8a6-7bb6-4f48-8130-51b343167c50",
   "metadata": {},
   "outputs": [
    {
     "name": "stdout",
     "output_type": "stream",
     "text": [
      "Collecting ucimlrepo\n",
      "  Downloading ucimlrepo-0.0.7-py3-none-any.whl.metadata (5.5 kB)\n",
      "Requirement already satisfied: pandas>=1.0.0 in /opt/conda/lib/python3.11/site-packages (from ucimlrepo) (2.1.1)\n",
      "Requirement already satisfied: certifi>=2020.12.5 in /opt/conda/lib/python3.11/site-packages (from ucimlrepo) (2023.7.22)\n",
      "Requirement already satisfied: numpy>=1.23.2 in /opt/conda/lib/python3.11/site-packages (from pandas>=1.0.0->ucimlrepo) (1.24.4)\n",
      "Requirement already satisfied: python-dateutil>=2.8.2 in /opt/conda/lib/python3.11/site-packages (from pandas>=1.0.0->ucimlrepo) (2.8.2)\n",
      "Requirement already satisfied: pytz>=2020.1 in /opt/conda/lib/python3.11/site-packages (from pandas>=1.0.0->ucimlrepo) (2023.3.post1)\n",
      "Requirement already satisfied: tzdata>=2022.1 in /opt/conda/lib/python3.11/site-packages (from pandas>=1.0.0->ucimlrepo) (2023.3)\n",
      "Requirement already satisfied: six>=1.5 in /opt/conda/lib/python3.11/site-packages (from python-dateutil>=2.8.2->pandas>=1.0.0->ucimlrepo) (1.16.0)\n",
      "Downloading ucimlrepo-0.0.7-py3-none-any.whl (8.0 kB)\n",
      "Installing collected packages: ucimlrepo\n",
      "Successfully installed ucimlrepo-0.0.7\n"
     ]
    }
   ],
   "source": [
    "!pip install ucimlrepo"
   ]
  },
  {
   "cell_type": "markdown",
   "id": "d49db403-455f-46f0-b7b6-6dd5bf997943",
   "metadata": {},
   "source": [
    "Der Datensatz enhält 13 Messdaten zu insgesamt 178 Weinproben, die zu 3 verschiedenen Weinsorten gehören:"
   ]
  },
  {
   "cell_type": "markdown",
   "id": "44d76fe8-8139-42cf-9038-71457f6dc8e3",
   "metadata": {},
   "source": [
    "### Übungsaufgabe\n",
    "\n",
    "**Aufgabenstellung:** \n",
    "\n",
    "In dieser Übung werden wir den Wine-Datensatz verwenden, um mithilfe von Clustering die verschiedenen Weintypen zu identifizieren und zu analysieren.\n",
    "\n",
    "1. **Datenvorbereitung:**\n",
    "   - Überprüfen Sie die ersten fünf Zeilen des Datensatzes, um ein Gefühl für die Daten zu bekommen.\n",
    "   - Untersuchen Sie die Statistiken des Datensatzes, um die Merkmale zu verstehen und ggf. fehlende Werte zu identifizieren.\n",
    "\n",
    "2. **Clustering:**\n",
    "   - Wenden Sie den K-Means-Clustering-Algorithmus von SciKit Learn auf den Datensatz an.\n",
    "   - Wählen Sie eine geeignete Anzahl von Clustern.\n",
    "   - Führen Sie das Clustering durch und speichern Sie die Cluster-Zuordnungen.\n",
    "\n",
    "3. **Ergebnisse interpretieren:**\n",
    "   - Visualisieren Sie die Cluster mit einem Streu- (Scatter-) Diagramm, indem Sie die ersten beiden Merkmale (bzw. die per PCA bestimmten\n",
    "     Hauptachsen) als Koordinaten verwenden.\n",
    "   - Vergleichen Sie die Cluster-Zuordnungen mit der tatsächlichen Weinkategorie. Wie gut hat der K-Means-Algorithmus die Weintypen erkannt?\n",
    "\n",
    "\n",
    "### Hinweise:\n",
    "- Verwenden Sie die Bibliotheken Pandas, Matplotlib und SciKit Learn, um Ihre Ergebnisse zu visualisieren und Ihre Analyse durchzuführen.\n",
    "- Dokumentieren Sie Ihren Code und Ihre Ergebnisse in einem Jupyter-Notebook, um Ihre Interpretationen und Erkenntnisse festzuhalten.\n",
    "\n",
    "**Ziel:**\n",
    "Diese Übung zielt darauf ab, ein Verständnis für Clustering-Techniken und deren Anwendung auf chemische Analysetermine in der Biologie zu entwickeln. Durch die Analyse des Wine-Datensatzes werden Sie praktische Erfahrungen in der Anwendung von K-Means-Clustering sammeln und die Bedeutung der Clusteranalyse in der chemischen Datenwissenschaft besser verstehen."
   ]
  },
  {
   "cell_type": "code",
   "execution_count": null,
   "id": "a18cd6db-8d57-45c1-ad89-4be5457d05ff",
   "metadata": {},
   "outputs": [],
   "source": [
    "from ucimlrepo import fetch_ucirepo \n",
    "  \n",
    "# fetch dataset \n",
    "wine = fetch_ucirepo(id=109) \n",
    "  \n",
    "# data (as pandas dataframes) \n",
    "X = wine.data.features \n",
    "y = wine.data.targets \n",
    "\n",
    "X"
   ]
  },
  {
   "cell_type": "code",
   "execution_count": null,
   "id": "c600d602-81dc-4590-a9e9-f2a2bb2ef13e",
   "metadata": {},
   "outputs": [],
   "source": []
  }
 ],
 "metadata": {
  "kernelspec": {
   "display_name": "Python 3 (ipykernel)",
   "language": "python",
   "name": "python3"
  },
  "language_info": {
   "codemirror_mode": {
    "name": "ipython",
    "version": 3
   },
   "file_extension": ".py",
   "mimetype": "text/x-python",
   "name": "python",
   "nbconvert_exporter": "python",
   "pygments_lexer": "ipython3",
   "version": "3.11.6"
  }
 },
 "nbformat": 4,
 "nbformat_minor": 5
}
